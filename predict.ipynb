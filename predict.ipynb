{
 "cells": [
  {
   "cell_type": "code",
   "execution_count": 1,
   "metadata": {},
   "outputs": [
    {
     "name": "stderr",
     "output_type": "stream",
     "text": [
      "Ultralytics YOLOv8.0.107  Python-3.10.10 torch-2.0.1+cpu CPU\n",
      "Setup complete  (12 CPUs, 7.3 GB RAM, 274.7/375.5 GB disk)\n"
     ]
    }
   ],
   "source": [
    "import ultralytics\n",
    "ultralytics.checks()"
   ]
  },
  {
   "cell_type": "code",
   "execution_count": 3,
   "metadata": {},
   "outputs": [
    {
     "name": "stderr",
     "output_type": "stream",
     "text": [
      "Ultralytics YOLOv8.0.107  Python-3.10.10 torch-2.0.1+cpu CPU\n",
      "YOLOv8n summary (fused): 168 layers, 3151904 parameters, 0 gradients\n",
      "\n",
      "image 1/1 C:\\Users\\Sayel Munsi\\Desktop\\python projects\\YOLOv8_Project\\hrithik_roshan.jpeg: 640x448 1 person, 251.4ms\n",
      "Speed: 8.3ms preprocess, 251.4ms inference, 10.9ms postprocess per image at shape (1, 3, 640, 640)\n",
      "Results saved to \u001b[1mc:\\Users\\Sayel Munsi\\Desktop\\python projects\\YOLOv8_Project\\runs\\detect\\predict\u001b[0m\n"
     ]
    }
   ],
   "source": [
    "!yolo predict model=yolov8n.pt source='hrithik_roshan.jpeg'"
   ]
  },
  {
   "cell_type": "code",
   "execution_count": null,
   "metadata": {},
   "outputs": [],
   "source": []
  }
 ],
 "metadata": {
  "kernelspec": {
   "display_name": "env",
   "language": "python",
   "name": "python3"
  },
  "language_info": {
   "codemirror_mode": {
    "name": "ipython",
    "version": 3
   },
   "file_extension": ".py",
   "mimetype": "text/x-python",
   "name": "python",
   "nbconvert_exporter": "python",
   "pygments_lexer": "ipython3",
   "version": "3.10.10"
  },
  "orig_nbformat": 4
 },
 "nbformat": 4,
 "nbformat_minor": 2
}
